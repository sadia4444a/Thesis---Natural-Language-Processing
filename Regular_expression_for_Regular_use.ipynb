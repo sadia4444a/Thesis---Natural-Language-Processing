{
  "nbformat": 4,
  "nbformat_minor": 0,
  "metadata": {
    "colab": {
      "provenance": [],
      "authorship_tag": "ABX9TyOAb3rgPk7EuR7FJ0F0psA7",
      "include_colab_link": true
    },
    "kernelspec": {
      "name": "python3",
      "display_name": "Python 3"
    },
    "language_info": {
      "name": "python"
    }
  },
  "cells": [
    {
      "cell_type": "markdown",
      "metadata": {
        "id": "view-in-github",
        "colab_type": "text"
      },
      "source": [
        "<a href=\"https://colab.research.google.com/github/sadia4444a/Thesis---Natural-Language-Processing/blob/main/Regular_expression_for_Regular_use.ipynb\" target=\"_parent\"><img src=\"https://colab.research.google.com/assets/colab-badge.svg\" alt=\"Open In Colab\"/></a>"
      ]
    },
    {
      "cell_type": "markdown",
      "source": [
        "# REGULAR EXPRESSION FOR REGULAR USE IN NLP"
      ],
      "metadata": {
        "id": "98VWoco9Hi1x"
      }
    },
    {
      "cell_type": "markdown",
      "source": [
        "##OUTLINE:\n",
        "   1. WRITTING REGULAR EXPRESSION\n",
        "   2. FINDING PATTERNS\n",
        "   3. PRATICAL EXAMPLES\n",
        "   4. CHARACTER SETS\n",
        "   5. QUANTIFIERS"
      ],
      "metadata": {
        "id": "etJTNfzKHqi9"
      }
    },
    {
      "cell_type": "markdown",
      "source": [
        "1.  . Match every thing in a documents\n",
        "2. \\. match just . in documents\n",
        "3. abc and bca is differents oder matters\n",
        "\n",
        "4. \\ backslash means escape\n",
        "5. \\\\ for match a back slash\n"
      ],
      "metadata": {
        "id": "3vbwaruQIVr2"
      }
    },
    {
      "cell_type": "code",
      "source": [
        "## so if we want to match  sadia.com then i have to use\n",
        "## sadia\\.com"
      ],
      "metadata": {
        "id": "r-ihkSOKHUud"
      },
      "execution_count": null,
      "outputs": []
    },
    {
      "cell_type": "markdown",
      "source": [
        "1. .  - any character Except New Line\n",
        "2. \\d - Digit (0-9)\n",
        "3. \\D - not a Digit (0-9)\n",
        "4. \\w - Word Character(a-z, A-z , 0-9, -)\n",
        "\n",
        "5. \\W  - Not a word character\n",
        "\n",
        "6. \\s  - Whitespace (space, tab, newline)\n",
        "\n",
        "7. \\S - Not whitespeace (spaec, tab , newline)\n",
        "\n",
        "\n",
        "8. \\b - word boundary\n",
        "9. \\B - not Word Boundary\n",
        "\n",
        "10. ^ -Beginning of a string\n",
        "11. $ - End of a string\n",
        "\n",
        "12. [] - Matches characters in bradckets\n",
        "\n",
        "13. [^ ] - Matches characters in Brackets\n",
        "\n",
        "14. | - Either or\n",
        "\n",
        "15. () - Group\n",
        "\n",
        "Quentifiers:\n",
        "\n",
        "*  -> 0 or More\n",
        "+  -> 1 or More\n",
        "\n",
        "? - 0 or one\n",
        "\n",
        "{3} - Exact Number\n",
        "\n",
        "{ 3, 4} - Range of Numbers ( Minimum , Maximum)\n",
        "\n",
        "#### Sample Regexs ##\n",
        "\n"
      ],
      "metadata": {
        "id": "R8OHh3LhJWba"
      }
    },
    {
      "cell_type": "markdown",
      "source": [
        "### sample text\n"
      ],
      "metadata": {
        "id": "FBgZm-gzJWYR"
      }
    },
    {
      "cell_type": "code",
      "source": [
        "abcdefghijklmnopqurtuvwxyz\n",
        "ABCDEFGHIJKLMNOPQRSTUVWXYZ\n",
        "1234567890\n",
        "\n",
        "Ha HaHa\n",
        "\n",
        "MetaCharacters (Need to be escaped):\n",
        ".[{()\\^$|?*+\n",
        "\n",
        "sadia.com\n",
        "\n",
        "321-555-4321\n",
        "123.555.1234\n",
        "\n",
        "Mr. Ismail\n",
        "Mr Sanan\n",
        "Ms Davis\n",
        "Mrs. Jackson\n",
        "Mr. X"
      ],
      "metadata": {
        "id": "vkUkPlf9PmVs"
      },
      "execution_count": null,
      "outputs": []
    },
    {
      "cell_type": "markdown",
      "source": [
        "##Practical Example"
      ],
      "metadata": {
        "id": "G-n3MT0uSZtY"
      }
    },
    {
      "cell_type": "code",
      "source": [
        "\\bHa\\b --> matches with Ha HaHa just 1st Ha because is\n",
        "has word boundary bigenning and end of the  word.\n",
        "\n",
        "\\bHa --> matches with Ha HaHa -->Ha Ha"
      ],
      "metadata": {
        "id": "h1snZTPJPylF"
      },
      "execution_count": null,
      "outputs": []
    },
    {
      "cell_type": "code",
      "source": [
        "^Ha matches --> Ha because its a beginning of line"
      ],
      "metadata": {
        "id": "9bYXN-n_Q3UE"
      },
      "execution_count": null,
      "outputs": []
    },
    {
      "cell_type": "code",
      "source": [
        "Ha$ --> matches last ->> Ha"
      ],
      "metadata": {
        "id": "stYJDkShRDye"
      },
      "execution_count": null,
      "outputs": []
    },
    {
      "cell_type": "code",
      "source": [
        "\\d\\d\\d.\\d\\d\\d.\\d\\d\\d\\d --> matches 321-555-4321 , 123.555.1234"
      ],
      "metadata": {
        "id": "FQPEYzmqRKOg"
      },
      "execution_count": null,
      "outputs": []
    },
    {
      "cell_type": "code",
      "source": [
        "[] --> this called character set\n",
        "\n",
        "123*555*1234\n",
        "\n",
        "\\d\\d\\d[-.]\\d\\d\\d[_.]\\d\\d\\d\\d"
      ],
      "metadata": {
        "id": "294GdMG4Rvku"
      },
      "execution_count": null,
      "outputs": []
    },
    {
      "cell_type": "markdown",
      "source": [
        "## Character sets"
      ],
      "metadata": {
        "id": "eDnZp4pyStYO"
      }
    },
    {
      "cell_type": "code",
      "source": [
        "want to matches number star with 8 or 9 and followed by 00.\n",
        "\n",
        "800-500-4321 and 900-555-4321\n",
        "\n",
        "\n",
        "solution:\n",
        "\n",
        "[89]00[_.]\\d\\d\\d[_.]\\d\\d\\d\n"
      ],
      "metadata": {
        "id": "C3Pef0GTSwbi"
      },
      "execution_count": null,
      "outputs": []
    },
    {
      "cell_type": "code",
      "source": [
        "[1-7] range 1-7\n",
        "\n",
        "[a-z]\n",
        "\n",
        "[A-Za_z]"
      ],
      "metadata": {
        "id": "kPTRvAzcTWIW"
      },
      "execution_count": null,
      "outputs": []
    },
    {
      "cell_type": "code",
      "source": [
        "[^a-z] matches everything thats not a to z\n",
        "\n",
        "\n",
        "cat\n",
        "mat\n",
        "pat\n",
        "bat\n",
        "\n",
        "if we dont want to  matches bat just\n",
        "\n",
        "sol:\n",
        "\n",
        "[^b]at\n",
        "\n"
      ],
      "metadata": {
        "id": "O32EQLuCTr1X"
      },
      "execution_count": null,
      "outputs": []
    },
    {
      "cell_type": "markdown",
      "source": [
        "## Quantifieries"
      ],
      "metadata": {
        "id": "F2M6S1hIUKSR"
      }
    },
    {
      "cell_type": "markdown",
      "source": [
        "Quentifiers:\n",
        "\n",
        "*  -> 0 or More\n",
        "+  -> 1 or More\n",
        "\n",
        "? - 0 or one\n",
        "\n",
        "{3} - Exact Number\n",
        "\n",
        "{ 3, 4} - Range of Numbers ( Minimum , Maximum)"
      ],
      "metadata": {
        "id": "6jA2OORBVuKs"
      }
    },
    {
      "cell_type": "code",
      "source": [
        "\\d\\d\\d.\\d\\d\\d.\\d\\d\\d\\d --> we can also do \\d{3}.\\d{3}.\\d{4}"
      ],
      "metadata": {
        "id": "vXVPAQtVUOGl"
      },
      "execution_count": null,
      "outputs": []
    },
    {
      "cell_type": "code",
      "source": [
        "Mr. Ismail\n",
        "Mr Sanan\n",
        "Ms Davis\n",
        "Mrs. Jackson\n",
        "Mr. X"
      ],
      "metadata": {
        "id": "bdRRqhfGWSYs"
      },
      "execution_count": null,
      "outputs": []
    },
    {
      "cell_type": "code",
      "source": [
        "Mr\\.? ---> zero or one preiod\n",
        "\n",
        "Mr\\.?\\s[A-Z]\\w* ->> Mr. Ismail, Mr Sanan ,Mr. X"
      ],
      "metadata": {
        "id": "goWkmitmUOdJ"
      },
      "execution_count": null,
      "outputs": []
    },
    {
      "cell_type": "code",
      "source": [
        "For Matches all  we can use group\n",
        "\n",
        "M(r|s|rs)\\.?\\s[A-Z]\\w*  --> it's matches all name"
      ],
      "metadata": {
        "id": "bVitgLb1XBrh"
      },
      "execution_count": null,
      "outputs": []
    },
    {
      "cell_type": "markdown",
      "source": [
        "CoreyMSchafer@gmail.com\n",
        "\n",
        "corey.schafer@university.edu\n",
        "\n",
        "corey-321-schafer@my-work.net"
      ],
      "metadata": {
        "id": "nUduWOIDXxcO"
      }
    },
    {
      "cell_type": "code",
      "source": [
        "solution1:\n",
        " [a-zA-Z0-9.-]+@[a-zA-Z-]+\\.(com|edu|net)"
      ],
      "metadata": {
        "id": "Fpdt1rCeXxB4"
      },
      "execution_count": null,
      "outputs": []
    },
    {
      "cell_type": "code",
      "source": [
        "solution2:\n",
        " [a-zA-Z0-9_.+-]+@[a-zA-Z0-9-]+\\.[a-zA-Z0-9-.]+"
      ],
      "metadata": {
        "id": "tY_fpc_MZyIG"
      },
      "execution_count": null,
      "outputs": []
    },
    {
      "cell_type": "code",
      "source": [
        "use group to use grab the imformation from\n",
        "1st create regx thats mathces all url then create group here we create\n",
        "3 group\n",
        "\n",
        "https://www.google.com\n",
        "http://coreyms.com\n",
        "https://youtube.com\n",
        "https://www.nasa.gov\n",
        "\n",
        "https?://(www\\.)?(\\w+)(\\.\\w+)\n",
        "\n",
        "group 1: $1 REPLACE GROUP 1 WITH group 1\n",
        "\n",
        "$2$3. ->google.com,coreyms.com,youtube.com,nasa.gov"
      ],
      "metadata": {
        "id": "E0GR9sNcaeSK"
      },
      "execution_count": null,
      "outputs": []
    },
    {
      "cell_type": "markdown",
      "source": [
        "# Regex For NLP\n",
        "\n",
        "OUTLINE:\n",
        " 1. Overview of regex\n",
        " 2. Installation and prerequisites\n",
        " 3. code for regex in chatbot\n",
        " 4. Code for regex in information extraction\n",
        " 5. Exercise\n"
      ],
      "metadata": {
        "id": "V3k1Zq8FbwV-"
      }
    },
    {
      "cell_type": "markdown",
      "source": [
        "## Regex in coustomer support\n",
        "\n",
        "Retrieve oder number"
      ],
      "metadata": {
        "id": "3Ld4dCPGqRk9"
      }
    },
    {
      "cell_type": "code",
      "source": [
        "chat1='codebasics: Hello, I am having an issue with my order # 412889912'\n",
        "chat2='codebasics: I have a problem with my order number 412889912'\n",
        "chat3='codebasics: My order 412889912 is having an issue, I was charged 300$ when online it says 280$'\n",
        "\n"
      ],
      "metadata": {
        "id": "44Q3qg2Y1uW7"
      },
      "execution_count": 12,
      "outputs": []
    },
    {
      "cell_type": "code",
      "source": [
        "## use group\n",
        "pattern = 'order[^\\d]*(\\d*)'\n",
        "matches = re.findall(pattern, chat1)\n",
        "matches\n"
      ],
      "metadata": {
        "id": "EK9VlHuWbwGm",
        "colab": {
          "base_uri": "https://localhost:8080/"
        },
        "outputId": "ed98c6f4-807f-44df-b01e-1e1fa2ac063c"
      },
      "execution_count": 37,
      "outputs": [
        {
          "output_type": "execute_result",
          "data": {
            "text/plain": [
              "['412889912']"
            ]
          },
          "metadata": {},
          "execution_count": 37
        }
      ]
    },
    {
      "cell_type": "markdown",
      "source": [
        "## RETRIVE EMAIL ID AND PHONE NUMBER"
      ],
      "metadata": {
        "id": "SGkiDPNw1XRR"
      }
    },
    {
      "cell_type": "code",
      "source": [
        "chat1 = 'codebasics: you ask lot of questions 😠  1235678912, abc@xyz.com'\n",
        "chat2 = 'codebasics: here it is: (123)-567-8912, abc@xyz.com'\n",
        "chat3 = 'codebasics: yes, phone: 1235678912 email: abc@xyz.com'"
      ],
      "metadata": {
        "id": "x_tEEHp61WO8"
      },
      "execution_count": 40,
      "outputs": []
    },
    {
      "cell_type": "markdown",
      "source": [
        "### EMAIL ID"
      ],
      "metadata": {
        "id": "_R5vTRGn1d1X"
      }
    },
    {
      "cell_type": "code",
      "source": [
        "def get_pattern_match(pattern, text):\n",
        "    matches = re.findall(pattern, text)\n",
        "    if matches:\n",
        "        return matches[0]"
      ],
      "metadata": {
        "id": "bF2JpjnOFVIi"
      },
      "execution_count": 38,
      "outputs": []
    },
    {
      "cell_type": "code",
      "source": [
        "get_pattern_match('[a-zA-Z0-9_]*@[a-z]*\\.[a-zA-Z0-9]*',chat1)"
      ],
      "metadata": {
        "colab": {
          "base_uri": "https://localhost:8080/",
          "height": 35
        },
        "id": "WBuQdpVG1WML",
        "outputId": "c38f9c36-f7e2-4b64-d3b1-f9a1c3f554c5"
      },
      "execution_count": 41,
      "outputs": [
        {
          "output_type": "execute_result",
          "data": {
            "text/plain": [
              "'abc@xyz.com'"
            ],
            "application/vnd.google.colaboratory.intrinsic+json": {
              "type": "string"
            }
          },
          "metadata": {},
          "execution_count": 41
        }
      ]
    },
    {
      "cell_type": "markdown",
      "source": [
        "### PHONE NUMBER"
      ],
      "metadata": {
        "id": "jgkRH_0q1cFU"
      }
    },
    {
      "cell_type": "code",
      "source": [
        "import re\n",
        "\n",
        "pattern = '\\d{10}'\n",
        "matches = re.findall(pattern, chat1)\n",
        "matches"
      ],
      "metadata": {
        "colab": {
          "base_uri": "https://localhost:8080/"
        },
        "id": "AZaxpSGK1WKG",
        "outputId": "026f73e7-4bde-4df3-eba1-a42062772250"
      },
      "execution_count": 9,
      "outputs": [
        {
          "output_type": "execute_result",
          "data": {
            "text/plain": [
              "['1235678912']"
            ]
          },
          "metadata": {},
          "execution_count": 9
        }
      ]
    },
    {
      "cell_type": "code",
      "source": [
        "pattern1=\\(\\d{3}\\)-\\d{3}-\\d{4}"
      ],
      "metadata": {
        "id": "Y8FJIVl_3vZz"
      },
      "execution_count": null,
      "outputs": []
    },
    {
      "cell_type": "code",
      "source": [
        "get_pattern_match('(\\d{10})|(\\(\\d{3}\\)-\\d{3}-\\d{4})',chat1)\n"
      ],
      "metadata": {
        "colab": {
          "base_uri": "https://localhost:8080/"
        },
        "id": "2F_PORlIFdhM",
        "outputId": "4e1b69a5-1409-4d9f-e0f8-9965cfcca62b"
      },
      "execution_count": 42,
      "outputs": [
        {
          "output_type": "execute_result",
          "data": {
            "text/plain": [
              "('1235678912', '')"
            ]
          },
          "metadata": {},
          "execution_count": 42
        }
      ]
    },
    {
      "cell_type": "markdown",
      "source": [
        "## Regex for information Extraction\n",
        "\n"
      ],
      "metadata": {
        "id": "BDqD2ST_02NQ"
      }
    },
    {
      "cell_type": "code",
      "source": [
        "text1='''\n",
        "Born\tElon Reeve Musk\n",
        "June 28, 1971 (age 50)\n",
        "Pretoria, Transvaal, South Africa\n",
        "Citizenship\n",
        "South Africa (1971–present)\n",
        "Canada (1971–present)\n",
        "United States (2002–present)\n",
        "Education\tUniversity of Pennsylvania (BS, BA)\n",
        "Title\n",
        "Founder, CEO and Chief Engineer of SpaceX\n",
        "CEO and product architect of Tesla, Inc.\n",
        "Founder of The Boring Company and X.com (now part of PayPal)\n",
        "Co-founder of Neuralink, OpenAI, and Zip2\n",
        "Spouse(s)\n",
        "Justine Wilson\n",
        "​\n",
        "​(m. 2000; div. 2008)​\n",
        "Talulah Riley\n",
        "​\n",
        "​(m. 2010; div. 2012)​\n",
        "​\n",
        "​(m. 2013; div. 2016)\n",
        "'''\n"
      ],
      "metadata": {
        "id": "XUcgoI5B0-S1"
      },
      "execution_count": 30,
      "outputs": []
    },
    {
      "cell_type": "code",
      "source": [
        "text = '''\n",
        "Born\tMukesh Dhirubhai Ambani\n",
        "19 April 1957 (age 64)\n",
        "Aden, Colony of Aden\n",
        "(present-day Yemen)[1][2]\n",
        "Nationality\tIndian\n",
        "Alma mater\n",
        "St. Xavier's College, Mumbai\n",
        "Institute of Chemical Technology (B.E.)\n",
        "Stanford University (drop-out)\n",
        "Occupation\tChairman and MD, Reliance Industries\n",
        "Spouse(s)\tNita Ambani ​(m. 1985)​[3]\n",
        "Children\t3\n",
        "Parent(s)\n",
        "Dhirubhai Ambani (father)\n",
        "Kokilaben Ambani (mother)\n",
        "Relatives\tAnil Ambani (brother)\n",
        "Tina Ambani (sister-in-law)'''\n"
      ],
      "metadata": {
        "id": "5fKKtefj1BFL"
      },
      "execution_count": 18,
      "outputs": []
    },
    {
      "cell_type": "code",
      "source": [
        "pt='age (\\d+)'\n",
        "\n",
        "m=re.findall(pt,text)\n",
        "m"
      ],
      "metadata": {
        "colab": {
          "base_uri": "https://localhost:8080/"
        },
        "id": "J652olP67DJi",
        "outputId": "4718fec4-cd3c-4019-c735-d4e10bc6cb0e"
      },
      "execution_count": 21,
      "outputs": [
        {
          "output_type": "execute_result",
          "data": {
            "text/plain": [
              "['64']"
            ]
          },
          "metadata": {},
          "execution_count": 21
        }
      ]
    },
    {
      "cell_type": "code",
      "source": [
        "pt='Born.*\\n(.*)\\(age'\n",
        "\n",
        "m=re.findall(pt,text)\n",
        "m"
      ],
      "metadata": {
        "colab": {
          "base_uri": "https://localhost:8080/"
        },
        "id": "8Hb-XtY48Msx",
        "outputId": "73df8409-20ef-4265-c9a8-146ac4f23c9a"
      },
      "execution_count": 23,
      "outputs": [
        {
          "output_type": "execute_result",
          "data": {
            "text/plain": [
              "['19 April 1957 ']"
            ]
          },
          "metadata": {},
          "execution_count": 23
        }
      ]
    },
    {
      "cell_type": "code",
      "source": [
        "def extract_personal_information(text):\n",
        "    age = get_pattern_match('age (\\d+)', text)\n",
        "    full_name = get_pattern_match('Born(.*)\\n', text)\n",
        "    birth_date = get_pattern_match('Born.*\\n(.*)\\(age', text)\n",
        "    birth_place = get_pattern_match('\\(age.*\\n(.*)', text)\n",
        "    return {\n",
        "        'age': int(age),\n",
        "        'name': full_name.strip(),\n",
        "        'birth_date': birth_date.strip(),\n",
        "        'birth_place': birth_place.strip()\n",
        "    }\n"
      ],
      "metadata": {
        "id": "3NxRTp489Ozs"
      },
      "execution_count": 28,
      "outputs": []
    },
    {
      "cell_type": "code",
      "source": [
        "extract_personal_information(text)\n"
      ],
      "metadata": {
        "colab": {
          "base_uri": "https://localhost:8080/"
        },
        "id": "PEyaDipF9Q-D",
        "outputId": "c64fe762-3036-4042-ea04-cfe787542894"
      },
      "execution_count": 29,
      "outputs": [
        {
          "output_type": "execute_result",
          "data": {
            "text/plain": [
              "{'age': 64,\n",
              " 'name': 'Mukesh Dhirubhai Ambani',\n",
              " 'birth_date': '19 April 1957',\n",
              " 'birth_place': 'Aden, Colony of Aden'}"
            ]
          },
          "metadata": {},
          "execution_count": 29
        }
      ]
    },
    {
      "cell_type": "code",
      "source": [
        "extract_personal_information(text1)"
      ],
      "metadata": {
        "colab": {
          "base_uri": "https://localhost:8080/"
        },
        "id": "AKvB2jvC9m2t",
        "outputId": "ee1b3bd2-54a2-45c4-861e-448b2ece5840"
      },
      "execution_count": 31,
      "outputs": [
        {
          "output_type": "execute_result",
          "data": {
            "text/plain": [
              "{'age': 50,\n",
              " 'name': 'Elon Reeve Musk',\n",
              " 'birth_date': 'June 28, 1971',\n",
              " 'birth_place': 'Pretoria, Transvaal, South Africa'}"
            ]
          },
          "metadata": {},
          "execution_count": 31
        }
      ]
    },
    {
      "cell_type": "markdown",
      "source": [
        "## EXERCISE"
      ],
      "metadata": {
        "id": "gTH7uuyn1OG0"
      }
    },
    {
      "cell_type": "markdown",
      "source": [
        "\n",
        "1. Extract all twitter handles from following text. Twitter handle is the text that appears after https://twitter.com/ and is a single word. Also it contains only alpha numeric characters i.e. A-Z a-z , o to 9 and underscore _"
      ],
      "metadata": {
        "id": "Ec_pnSqK98gq"
      }
    },
    {
      "cell_type": "code",
      "source": [
        "text = '''\n",
        "Follow our leader Elon musk on twitter here: https://twitter.com/elonmusk, more information\n",
        "on Tesla's products can be found at https://www.tesla.com/. Also here are leading influencers\n",
        "for tesla related news,\n",
        "https://twitter.com/teslarati\n",
        "https://twitter.com/dummy_tesla\n",
        "https://twitter.com/dummy_2_tesla\n",
        "'''\n",
        "pattern = 'http.*com/([a-zA-z0-9_]+)[^.|\\s]' # todo: type your regex here\n",
        "\n",
        "re.findall(pattern, text)\n"
      ],
      "metadata": {
        "colab": {
          "base_uri": "https://localhost:8080/"
        },
        "id": "mjsQAtvT1EXv",
        "outputId": "69b4fd83-ce7d-4b1f-f502-f2a25e088374"
      },
      "execution_count": 32,
      "outputs": [
        {
          "output_type": "execute_result",
          "data": {
            "text/plain": [
              "['elonmusk', 'teslarat', 'dummy_tesl', 'dummy_2_tesl']"
            ]
          },
          "metadata": {},
          "execution_count": 32
        }
      ]
    },
    {
      "cell_type": "markdown",
      "source": [
        "2. Extract Concentration Risk Types. It will be a text that appears after \"Concentration Risk:\", In below example, your regex should extract these two strings\n",
        "\n",
        "(1) Credit Risk\n",
        "\n",
        "(2) Supply Rish\n",
        "\n"
      ],
      "metadata": {
        "id": "JqckROQd_qga"
      }
    },
    {
      "cell_type": "code",
      "source": [
        "\n",
        "text = '''\n",
        "Concentration of Risk: Credit Risk\n",
        "Financial instruments that potentially subject us to a concentration of credit risk consist of cash, cash equivalents, marketable securities,\n",
        "restricted cash, accounts receivable, convertible note hedges, and interest rate swaps. Our cash balances are primarily invested in money market funds\n",
        "or on deposit at high credit quality financial institutions in the U.S. These deposits are typically in excess of insured limits. As of September 30, 2021\n",
        "and December 31, 2020, no entity represented 10% or more of our total accounts receivable balance. The risk of concentration for our convertible note\n",
        "hedges and interest rate swaps is mitigated by transacting with several highly-rated multinational banks.\n",
        "Concentration of Risk: Supply Risk\n",
        "We are dependent on our suppliers, including single source suppliers, and the inability of these suppliers to deliver necessary components of our\n",
        "products in a timely manner at prices, quality levels and volumes acceptable to us, or our inability to efficiently manage these components from these\n",
        "suppliers, could have a material adverse effect on our business, prospects, financial condition and operating results.\n",
        "'''\n",
        "pattern = 'Concentration of Risk: ([a-zA-Z]+ [a-zA-Z]+)' # todo: type your regex here\n",
        "\n",
        "re.findall(pattern, text)\n"
      ],
      "metadata": {
        "colab": {
          "base_uri": "https://localhost:8080/"
        },
        "id": "gQWsWRAt1ET-",
        "outputId": "f2eb6a89-ce50-4df5-e90c-5e3567799093"
      },
      "execution_count": 34,
      "outputs": [
        {
          "output_type": "execute_result",
          "data": {
            "text/plain": [
              "['Credit Risk', 'Supply Risk']"
            ]
          },
          "metadata": {},
          "execution_count": 34
        }
      ]
    },
    {
      "cell_type": "markdown",
      "source": [
        "\n",
        "3. Companies in europe reports their financial numbers of semi annual basis and you can have a document like this. To exatract quarterly and semin annual period you can use a regex as shown below\n",
        "\n",
        "Hint: you need to use (?:) here to match everything enclosed\n",
        "\n"
      ],
      "metadata": {
        "id": "47JgrT3ZBnOf"
      }
    },
    {
      "cell_type": "code",
      "source": [
        "\n",
        "text = '''\n",
        "Tesla's gross cost of operating lease vehicles in FY2021 Q1 was $4.85 billion.\n",
        "BMW's gross cost of operating vehicles in FY2021 S1 was $8 billion.\n",
        "'''\n",
        "\n",
        "pattern = 'FY(\\d+) ?(S[1-2]|Q[1-4])' # todo: type your regex here\n",
        "matches = re.findall(pattern, text)\n",
        "matches\n"
      ],
      "metadata": {
        "colab": {
          "base_uri": "https://localhost:8080/"
        },
        "id": "8cpI8FQB_thg",
        "outputId": "965dc99c-3549-478e-cae2-581b46193b60"
      },
      "execution_count": 36,
      "outputs": [
        {
          "output_type": "execute_result",
          "data": {
            "text/plain": [
              "[('2021', 'Q1'), ('2021', 'S1')]"
            ]
          },
          "metadata": {},
          "execution_count": 36
        }
      ]
    },
    {
      "cell_type": "markdown",
      "source": [
        "##Resources / References\n",
        "\n",
        "web site: https://regex101.com/r/TN7Ddb/1\n",
        "\n",
        "youtube  video : https://youtu.be/lK9gx4q_vfI?si=u7WHR61TGIW3JfqA\n",
        "\n",
        "youtube video: https://youtu.be/sa-TUpSx1JA?si=XvBUp66HPXOh7329"
      ],
      "metadata": {
        "id": "-W1iAzyUDX-C"
      }
    }
  ]
}